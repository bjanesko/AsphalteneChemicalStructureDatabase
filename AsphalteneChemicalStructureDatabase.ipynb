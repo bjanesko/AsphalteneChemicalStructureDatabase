{
 "cells": [
  {
   "cell_type": "markdown",
   "id": "3c4a1a08",
   "metadata": {},
   "source": [
    "# <u> Creation of a Petroleum Database"
   ]
  },
  {
   "cell_type": "markdown",
   "id": "26bb9495",
   "metadata": {},
   "source": [
    "Make sure Python and pip are installed. Install all packages listed below. Import all programs used for the creation of the database. "
   ]
  },
  {
   "cell_type": "code",
   "execution_count": 1,
   "id": "8a717e2c",
   "metadata": {},
   "outputs": [],
   "source": [
    "import pubchempy as pub\n",
    "import rdkit\n",
    "from rdkit import Chem\n",
    "from rdkit.Chem import Draw\n",
    "from rdkit import DataStructs\n",
    "from rdkit.Chem import Descriptors\n",
    "from rdkit.Chem.Draw import IPythonConsole\n",
    "from rdkit.Chem import AllChem\n",
    "import numpy as np\n",
    "from rdkit.Chem import rdMolDescriptors\n",
    "from rdkit.Chem.rdMolDescriptors import CalcMolFormula\n",
    "from mordred import AtomCount as atomcount\n",
    "import collections as c\n",
    "import matplotlib\n",
    "import matplotlib.pyplot as plt\n",
    "import rdkit.Chem.Crippen as crip\n",
    "from rdkit.Chem import rdPartialCharges\n",
    "from rdkit.Chem import rdqueries\n",
    "from rdkit.Chem import rdEHTTools\n",
    "import pymysql\n",
    "import statistics\n",
    "import pandas as pd"
   ]
  },
  {
   "cell_type": "markdown",
   "id": "23b3e862",
   "metadata": {},
   "source": [
    "Molecules found in three papers are inserted into a database using the following workflow. \n",
    "\n",
    "The papers are cited, here:\n",
    "\n",
    "Paper 1, dataset SCT28: Zhang, Y.; Schuler, B.; Fatayer, S.; Gross, L.; Harper, M. R.; Kushnerick, J. D. Understanding the Effects of Sample Preparation on the Chemical Structures of Petroleum Imaged with Noncontact Atomic Force Microscopy. Industrial & Engineering Chemistry Research 2018, 57 (46), 15935-15941. DOI: 10.1021/acs.iecr.8b03962.\n",
    "\n",
    "Paper 2, dataset CA12: Schuler, B.; Meyer, G.; Peña, D.; Mullins, O. C.; Gross, L. Unraveling the Molecular Structures of Asphaltenes by Atomic Force Microscopy. Journal of the American Chemical Society 2015, 137 (31), 9870-9876. DOI: 10.1021/jacs.5b04056.\n",
    "\n",
    "Paper 3, dataset P26: Chen, P.; Metz, J. N.; Mennito, A. S.; Merchant, S.; Smith, S. E.; Siskin, M.; Rucker, S. P.; Dankworth, D. C.; Kushnerick, J. D.; Yao, N.; et al. Petroleum pitch: Exploring a 50-year structure puzzle with real-space molecular imaging. Carbon 2020, 161, 456-465. DOI: https://doi.org/10.1016/j.carbon.2020.01.062."
   ]
  },
  {
   "cell_type": "markdown",
   "id": "d074bbd7",
   "metadata": {},
   "source": [
    "## SMILES strings for each dataset "
   ]
  },
  {
   "cell_type": "code",
   "execution_count": 14,
   "id": "a424e703",
   "metadata": {},
   "outputs": [],
   "source": [
    "smiles={\n",
    "    'SCT1':'CC1=C(C=CC2=C3C=CC=C2)C3=C4C5=C1C=CC(C5=C6S4)=CC7=C6C8=C(C=C7)C9=CC%10=CC=CC=C%10C%11=C9C8=CC=C%11',\n",
    "    'SCT2':'CC1=C2C(C3=C(C4=C5C=C6)C6=C2)=C(C=CC3=CC4=CC=C5)C=C1',\n",
    "    'SCT3':'CC1=C2C(C(C=CC3=C4C5=C6C7=C3C=CC=C7C=C(C)C6=CC=C5)=C4S2)=CC=C1',\n",
    "    'SCT4':'CC1=CC2=C(C=C1)C3=C(C=CC=C3)C4=CC=CC=C42',\n",
    "    'SCT5':'CC1=CC2=CC=C3C4=C2C(C5=CC4=CC=C3)=C1NC(C5=C6)=C7C=CC8=CC=CC9=C8C7=C6C=C9',\n",
    "    'SCT6':'C12=CC(C=CC3=C4C(C5=C6)=C(C(C=C5)=CC=C7)C7=C3)=C4C6=C1C=CC=C2',\n",
    "    'SCT7':'CC1=CC=CC2=C1CC3=CC(C)=CC=C32',\n",
    "    'SCT8':'O=C1C2=CC=CC3=C2C4=C(C=C3)C=CC5=C4C1=C6C(C(C)=CC=C6)=C5',\n",
    "    'SCT9':'CC1=CC2=C3C(C4=C5C(C6=CC=CC=C6C7=C5C3=C1N7)=CC=C4)=CC=C2',\n",
    "    'SCT10':'CC(C1=C2C3=CC4=C(C=CC=C4)C(C)=C3C=C1)=CC5=C2C=C6C(C=CC=C6)=C5',\n",
    "    'SCT11':'CC1=C2C(C=C(C(C3=C4C5=C6C=C7C(C=CC=C7)=C5C=CC4=CC=C3)=C6S8)C8=C2)=C(C)C=C1',\n",
    "    'SCT12':'CC1=C2C3=C(C=C1)C4=CC=CC5=C4C(C3=C(C2)C=C6)=C6C=C5',\n",
    "    'SCT13':'CC1=C(C=CC=C2)C2=CC3=C1C=CC4=CC5=C(C(C=CC=C6)=C6C5)C=C43',\n",
    "    'SCT14':'CC1=CC(C)=CC2=CC(C)=CC=C21',\n",
    "    'SCT15':'CC1=C2C(C=C(C=C3C4=C5C=CC=C4C6=C3C=C(C7=CC=C(C=C(C)C=C8)C8=C7)C=C6)C5=C2)=CC=C1',\n",
    "    'SCT16':'C12=CC3=CC(CC4)=C(C4=C(C=C(CCC5)C5=C6)C6=C7)C7=C3C=C1C=CC=C2',\n",
    "    'SCT17':'CC1=CC=CC2=C1SC3=C2C=CC4=C3C5=CC=CC(C)=C5C4',\n",
    "    'SCT18':'CC1=CC=CC2=C1CC3=C2C=C4C5=C(C(C)=CC=C5)C=C6C4=C3C7=C6C=C8C(C9=C%10C8=CC=C%11C%10=C(SC%12=C%11C=CC=C%12C)C=C9)=C7C',\n",
    "    'SCT19':'CC1=C(C)C=C2C(C=CC=C2C)=C1',\n",
    "    'SCT20':'CC1=CC2=C3C4=C5C6=C2C(C1=C(C)C=C7)=C7C8=CC9=C(C(C%10=C5SC4=CC=C3)=C86)C%11=C(C%10=CC=C%12C)C%12=CC%13=C%11C(C9=CC=C%14)=C%14C=C%13',\n",
    "    'SCT21':'CC(C=C1)=CC2=C1C3=C(C2)C(C)=C4C5=C(C6=C4C=C7C(C(C)=CC=C7)=C6)C=CC=C35',\n",
    "    'SCT22':'CC1=C(C)C2=CC3=C4C(C=C(C)C=C4)=CC(CC5)=C3C5=C2C=C1C',\n",
    "    'SCT23': 'CC1C2=CC3=C(C(C=CC(C)=C4)=C4C3)C5=C2C6=C(C=C(C(C)=CC(C7=C8C9=C(C=CC(C)=C9)C%10=C7C=CC=C%10)=C%11C8=O)C%11=C6C5)C1',\n",
    "    'SCT24':'CC1=C(C)C=C(C)C=C1',\n",
    "    'SCT25':'CC1=CC=C(C=C2)C(C3=C2C4=C(C3)C(C)=C5C(C(C=C(C=C(C)C(C)=C6)C6=C7)=C7C5)=C4)=C1',\n",
    "    'SCT26':'CC1=CC2=C(C3=C1CC4=C3C=C(C=CC5=C6C=C7C(CCC7)=C5)C6=C4)C=CC8=C2C=CC=C8',\n",
    "    'SCT27':'CC1=CC=CC2=C1SC3=C2C=C4C(C5=CC=C4)=C3C=C6C5=CC(C7=C6)=C(C=C8)C9=C7C=CC%10=CC=CC8=C%109',\n",
    "    'SCT28':'CC1=C(C=CC2=C3C=CC4=C2SC=C4)C3=CC(C)=C1C',\n",
    "    'CA1':'CC1=CC2=C(C3=C4C(C=CC5=C4C2=CC=C5)=CC6=C3C7=C(C=CC=C78)C=C6)C8=C1',\n",
    "    'CA2':'CC1=CC2=C(C=C1)C3=C(C4=CC5=C3C=CC=C5)C(C6=CC(C=CC7=CC=CC(C=C8)=C79)=C9C8=C64)=C2', \n",
    "    'CA6':'C1(C2=C3C(C4=C(C5=C6C=C7)C(C8=C9C%10=C%11C=CC%12=C%10C%13=C(C=CC=C%13C%14=CC=CC=C%14%12)C9=CC%15=C8C5=C7C=C%15)=C%11C=C4%16)=C6C=C2)=C(C%17=C3C%16=CC=C%17C=C%18)C%18=CC=C1', \n",
    "    'CA7':'CC1=CC2=C(C3=C(C(C4=CC=CC5=C4C6=CC=C5)=CC7=C3C8=C2C=CC=C8C=C7)C6=C9)C9=C1',\n",
    "    'CA9':'CC1=CC2=C(C3=C4C=C2)C(C5=CC=CC6=C5C3=C7C(C=CC8=CC=CC4=C78)=C6)=C1',\n",
    "    'CA13':'C1(C2=CC=CC3=C2C(C4=C5C(C(C=CC=C6C7=CC=CC=C87)=C6C8=C5)=C9)=C9C=C3)=C4C=CC=C1',\n",
    "    'CA14 ':'CC1=C2C=CC3=CC4=C(C5=C3C2=C(C(C=C6)=C1)C7=C6C=CC8=C57)C(C8=CC=C9)=C9C=C4',\n",
    "    'CA15':'C12=CC(C3=CC4=C(CC5=C6C=CC7=C5C=CC=C7)C6=C8C9=C4C%10=C3C%11=C%12C=CC=C%11C=C%10C=C9C%13=CC%14=C(C(C=CC=C%15)=C%15C=C%14)C=C8%13)=C%12C=C1C=CC=C2',\n",
    "    'CA16':'C1(C=CC2=C3C=CC4=C2C(C=C(C(C=C(C5=CC6=C(C(C(C=C7)=CC=C8)=C8C=C6)C7=C5)C=C9)=C9C=C%10)C%10=C%11)=C%11C4)=C3C=CC=C1',\n",
    "    'CA21':'C12=CC=CC3=C1C4=C(C(C=CC=C5)=C5C=C4C3)C=C2',\n",
    "    'CA22':'C12=C(C(C(C(C=C3)=C2)=C(C3=CC4=C5C=CC=C4)C5=C6)=C6C=C7)C7=CC=C1',\n",
    "    'CA23':'CC1=CC=C2C(C(CC3=C4C=C(C5=CC=C(C)C=C5)C=C3)=C4C2)=C1',\n",
    "    'P1':'O=C1C2=C(C=CC(C)=C2)C3=C1C(C4)=C(C=C3)C5=C4C=CC=C5',\n",
    "    'P2':'CC1=CC(C2=C3C(C4=C(C)C=C5)=C5C=CC3=CC=C2)=C4C=C1C',\n",
    "    'P3':'CC1=CC2=CC=C3C(C4=C5C=C3C)=C2C(C6=C4C(C=C5)=CC=C6)=C1',\n",
    "        'P5':'C1(C2=CC(C=C3C4=C5C=CC=C4CC3)=C5C=C2C6=C7C=CC=C6)=C7C=CC=C1',\n",
    "    'P6':'CC1=CC2=C(C=CC3=C2C=CC4=C3C=C(CC)C=C4)C=C1',\n",
    "    'P7':'CC1=CC2=CC(C(C=CC=C3)=C3C4=C5C=CC=C4)=C5C=C2C=C1',\n",
    "    'P8':'CCC1=CC(C(C=CC=C2)=C2C=C3)=C3C4=C1C=CC=C4',\n",
    "    'P9':'CC(C1=CC=C2)=CC3=C(C1=C2C=C4)C4=CC=C3',\n",
    "    'P10':'C12=CC=CC=C1CC3=C2C=C(C=C4)C5=C3CC6=C5C4=CC=C6',\n",
    "    'P11':'CC(CCCC)C1=CC2=C(C3=C(C=C4)C=CC=C3C=C2)C4=C1',\n",
    "    'P12':'C12=CC3=C(CCC4)C4=C(C=C(CCC5)C5=C6)C6=C3C=C1C=CC=C2',\n",
    "    'P13':'CC1=C2C3=C(C=C1)C=CC(C3=C4C=C2)=CC5=C4C=C(C)C=C5',\n",
    "    'P14':'CC1=C2C(C=C(C(C=C3)=C2)C4=C3C5=C(C=C4C)C=C(C6=C5)C7=C8C(C=CC9=CC=CC6=C89)=CC(C)=C7)=CC=C1',\n",
    "    'P16':'C12=CC=CC3=C1C4=C(C=CC(CCCC5=C6C7=C(C=CC8=CC=CC(C=C6)=C87)C=C5)=C4C=C3)C=C2',\n",
    "    'P17':'C1(C2=C34)=CC=CC2=CC=C4C=CC(C5=C6C(C7=C8C=CC=C7C=C6)=C(C=C8)C=C5)=C3C=C1',\n",
    "    'P18 ':'CC1=CC=C2C=C(C3=CC2=C1)C=CC4=C3C=C5C(C=C6C=CC=CC6=C5)=C4',\n",
    "    'P19':'CC1=CC=C2C(C=C(C=C3)C4=C2C=CC5=C4C3=C(C6=CC(C=CC=C7)=C7C8=CC(C9=CC(C)C(C)=C9)=CC%10=C68)C%10=C5)=C1',\n",
    "    'P20': 'CC(C=C1)=CC2=C1C=CC3=C2CC4=C3C(C=C5)=C(C=C4)C6=C5C7=C8C(C9=C%10C=CC=C9C=C8)=C(C=C7C6)C%11=C%10C(C(C)=C%12)=C(C=C%11)C%13=C%12C%14=CC%15=C(C=C%14C=C%13)C%16=CC=CC=C%16C=C%15C',\n",
    "    'P21':'CC1=CC2=CC=CC(CC3=CC=C(C(C=CC4=C5C=CC(C)=C4)=C5C=C6)C6=C3)=C2C=C1',\n",
    "    'P22':'CCC1=CC2=C(C=C1)C3=C(C=CC=C3)C4=C2C=CC=C4',\n",
    "    'P23':'CCC1=CC2=C(C=C1)C3=C(C2=CC4=CC=C5)C(C4=C5C=C6)=C6C7=C8C(C=C73)=CC9=CC=CC%10=CC=CC8=C9%10',\n",
    "    'P24':'CC1=CC2=C3C4=C(C=C2)C=CC5=C4C(C6=CC(C(C=C(C)C=C7)=C7C8=CC(C)=CC=C89)=C9C6=C5)=CC3=C1',\n",
    "    'P26':'C1(C=C(C=C2)C3=C4C2=CC=CC4=CC=C35)=C5C=CC=C1',\n",
    "    'P28':'CC1=CC=C(C=CC2=C3C=CC(CCC4=CC=C5C(C=C(CC)C6=C5C=C(C)C=C6)=C4)=C2)C3=C1',\n",
    "    'P29':'CC1=CC2=C3C4=C1C=C5C(C4C6=CC3=CC=C2)C(C=C6)=CC=C5',\n",
    "    'P30':'CCC1=CC2=CC(C=CC3=C4C(C(C=C4)=CC=C5)=C5C=C36)=C6C=C2C=C1'\n",
    "}\n"
   ]
  },
  {
   "cell_type": "code",
   "execution_count": 29,
   "id": "e579f93d",
   "metadata": {},
   "outputs": [
    {
     "name": "stdout",
     "output_type": "stream",
     "text": [
      "The number of molecules from SCT28: 28\n",
      "The number of molecules from CA12: 12\n",
      "The number of molecules from P26: 26\n",
      "Total number of molecules in database: 66\n"
     ]
    }
   ],
   "source": [
    "print(\"The number of molecules from SCT28:\", len(smile_list_SCT28))\n",
    "print(\"The number of molecules from CA12:\", len(smile_list_CA12))\n",
    "print(\"The number of molecules from P26:\", len(smile_list_P26))\n",
    "print(\"Total number of molecules in database:\", len(all_smiles))"
   ]
  },
  {
   "cell_type": "code",
   "execution_count": 15,
   "id": "8896417e",
   "metadata": {},
   "outputs": [
    {
     "data": {
      "image/png": "[encoded data removed]",
      "text/plain": [
       "<PIL.PngImagePlugin.PngImageFile image mode=RGB size=300x300>"
      ]
     },
     "execution_count": 15,
     "metadata": {},
     "output_type": "execute_result"
    }
   ],
   "source": [
    "mol_noH = Chem.MolFromSmiles(smiles['SCT23'])\n",
    "molwithH = Chem.AddHs(mol_noH)\n",
    "from rdkit.Chem import Draw\n",
    "img = Draw.MolToImage(molwithH)\n",
    "img"
   ]
  },
  {
   "cell_type": "markdown",
   "id": "84dca2cf",
   "metadata": {},
   "source": [
    "## PubChem database search "
   ]
  },
  {
   "cell_type": "code",
   "execution_count": 5,
   "id": "570546d8",
   "metadata": {},
   "outputs": [
    {
     "name": "stdout",
     "output_type": "stream",
     "text": [
      "No PubChem data found for SMILES: CC1C2=CC3=C(C(C=CC(C)=C4)=C4C3)C5=C2C6=C(C=C(C(C)=CC(C7=C8C9=C(C=CC(C)=C91C%10=C7C=CC=C%10)=C%11C8=O)C%11=C6C5)C1\n",
      "Identifier: SCT1, PubChem Compound ID: 164942196\n",
      "Identifier: SCT2, PubChem Compound ID: 14274984\n",
      "Identifier: SCT4, PubChem Compound ID: 618051\n",
      "Identifier: SCT6, PubChem Compound ID: 15820911\n",
      "Identifier: SCT7, PubChem Compound ID: 12310194\n",
      "Identifier: SCT14, PubChem Compound ID: 18197\n",
      "Identifier: SCT19, PubChem Compound ID: 16732\n",
      "Identifier: SCT24, PubChem Compound ID: 7247\n",
      "Identifier: CA1, PubChem Compound ID: 122214794\n",
      "Identifier: CA2, PubChem Compound ID: 122214791\n",
      "Identifier: CA6, PubChem Compound ID: 122214795\n",
      "Identifier: CA7, PubChem Compound ID: 122214792\n",
      "Identifier: CA13, PubChem Compound ID: 122214798\n",
      "Identifier: CA14 , PubChem Compound ID: 122214797\n",
      "Identifier: CA21, PubChem Compound ID: 67458\n",
      "Identifier: CA22, PubChem Compound ID: 15820911\n",
      "Identifier: P6, PubChem Compound ID: 15933535\n",
      "Identifier: P8, PubChem Compound ID: 75951\n",
      "Identifier: P9, PubChem Compound ID: 18784\n",
      "Identifier: P16, PubChem Compound ID: 114966\n",
      "Identifier: P17, PubChem Compound ID: 267253\n",
      "Identifier: P22, PubChem Compound ID: 20163361\n",
      "Identifier: P26, PubChem Compound ID: 2336\n"
     ]
    }
   ],
   "source": [
    "#  Search pubchem for PubChem ID's for each asphaltene and store information in a dictionary\n",
    "def retrieve_pubchem_ids(smiles):\n",
    "    pubchem_ids_dict = {}\n",
    "    for key in smiles.keys():\n",
    "        try:\n",
    "            smi=smiles[key]\n",
    "            compounds = pub.get_compounds(smi, namespace='smiles')\n",
    "            if compounds:\n",
    "                match = compounds[0]\n",
    "                if match.cid is not None:\n",
    "                    pubchem_ids_dict[key] = match.cid\n",
    "        except pub.PubChemHTTPError:\n",
    "            print(f\"No PubChem data found for SMILES: {smi}\")\n",
    "    return pubchem_ids_dict\n",
    "\n",
    "pubchem_ids_dict = retrieve_pubchem_ids(smiles)\n",
    "\n",
    "#  Print the dictionary\n",
    "for identifier, pubchem_id in pubchem_ids_dict.items():\n",
    "    print(f\"Identifier: {identifier}, PubChem Compound ID: {pubchem_id}\")"
   ]
  },
  {
   "cell_type": "markdown",
   "id": "b810d8e4",
   "metadata": {},
   "source": [
    "## Create lists of properties obtained from the RDKit "
   ]
  },
  {
   "cell_type": "code",
   "execution_count": 24,
   "id": "22f0a6af",
   "metadata": {},
   "outputs": [],
   "source": [
    "mw = {}\n",
    "formula = {}\n",
    "mol_withH = {}\n",
    "logP={}\n",
    "nC={}\n",
    "DBE={}\n",
    "Z={}\n",
    "for key in smiles.keys():\n",
    "    smi=smiles[key]\n",
    "    #print(key,' ',smi)\n",
    "    mol_noH = Chem.MolFromSmiles(smi)\n",
    "    mol = Chem.AddHs(mol_noH)\n",
    "    mol_withH[key]=mol\n",
    "    mass = Descriptors.MolWt(mol)\n",
    "    mw[key]=mass\n",
    "    #molecular formula list\n",
    "    form = CalcMolFormula(mol)\n",
    "    formula[key]=form\n",
    "\n",
    "    #  number of H, C, and N\n",
    "    comp = c.defaultdict(lambda:0)\n",
    "    for atom in mol.GetAtoms():\n",
    "        comp[atom.GetSymbol()] +=1\n",
    "    numH=comp['H']\n",
    "    numC=comp['C']\n",
    "    numN=comp['N']\n",
    "    nC[key]=numC\n",
    "   \n",
    "    #  LogP\n",
    "    logP_value = crip.MolLogP(mol)\n",
    "    logP[key]=logP_value\n",
    "\n",
    "    #  DBE \n",
    "    #  where DBE = C - H/2 + N/2 + 1 \n",
    "    #  and gives a measure of aromaticity\n",
    "    DBE_val = numC - (numH / 2) + (numN / 2) + 1\n",
    "    DBE[key]=DBE_val\n",
    "\n",
    "    #  Z\n",
    "    #  where Z = H - 2C\n",
    "    #  and gives a measure of aromaticity\n",
    "    Zval = numH - (2 * numC)\n",
    "    Z[key]=Zval      \n"
   ]
  },
  {
   "cell_type": "markdown",
   "id": "e97a301e",
   "metadata": {},
   "source": [
    "## Lipinski's Rule of Five\n",
    "\n",
    "This will tell if a molecule obeys Lipinski's rules, which are used widely as criteria in pharmeceutical drug development. Lipinski's rules are as follows:\n",
    "\n",
    "    1. No more than five hydrogen bond donors\n",
    "    2. No more than ten hydrogen bond acceptors\n",
    "    3. Molecular mass less than 500 daltons\n",
    "    4. A calculated octanol-water partition coefficient (ClogP) not greater than five\n",
    "   \n",
    "According to Lipinski's rule of five, an orally active drug can have no more than one violation of these conditions."
   ]
  },
  {
   "cell_type": "code",
   "execution_count": 22,
   "id": "5936884a",
   "metadata": {},
   "outputs": [
    {
     "name": "stdout",
     "output_type": "stream",
     "text": [
      "    SCT7 194.28 3.875\n",
      "   SCT14 170.26 3.765\n",
      "   SCT19 170.26 3.765\n",
      "   SCT24 120.19 2.612\n",
      "      P1 282.34 4.778\n",
      "      P9 216.28 4.892\n"
     ]
    }
   ],
   "source": [
    "for i in smiles.keys():\n",
    "    violations=0\n",
    "    if(logP[i]>5):\n",
    "        violations=violations+1\n",
    "    if(mw[i]>500): # MW less than 500 Daltons\n",
    "        violations=violations+1\n",
    "    m=mol_withH[i]\n",
    "    NO_count = rdkit.Chem.Lipinski.NOCount(m)\n",
    "    if(NO_count>10):\n",
    "        violations=violations+1\n",
    "    NHOH_count = rdkit.Chem.Lipinski.NHOHCount(m)\n",
    "    if(NHOH_count>5):\n",
    "        violations=violations+1\n",
    "    if(violations<1):\n",
    "        print('%8s %.2f %.3f'%(i,mw[i],logP[i]))"
   ]
  },
  {
   "cell_type": "markdown",
   "id": "fc165028",
   "metadata": {},
   "source": [
    "### <u> DBE Figures </u>"
   ]
  },
  {
   "cell_type": "code",
   "execution_count": 37,
   "id": "4fa91148",
   "metadata": {},
   "outputs": [
    {
     "data": {
      "image/png": "[encoded data removed]",
      "text/plain": [
       "<Figure size 325x325 with 1 Axes>"
      ]
     },
     "metadata": {},
     "output_type": "display_data"
    }
   ],
   "source": [
    "SCT28=[]\n",
    "CA12=[]\n",
    "P26=[]\n",
    "for key in smiles.keys():\n",
    "    if('SCT' in key):\n",
    "        SCT28.append(key)\n",
    "    if('CA' in key):\n",
    "        CA12.append(key)\n",
    "    if('P' in key):\n",
    "        P26.append(key)\n",
    "\n",
    "fig, ax = plt.subplots(figsize=(3.25, 3.25))\n",
    "ax.scatter([nC[key] for key in SCT28],[DBE[key] for key in SCT28], c='cyan', label='SCT28', s=20)\n",
    "ax.scatter([nC[key] for key in CA12],[DBE[key] for key in CA12], c='darkorange', label='CA12', s=20)\n",
    "ax.scatter([nC[key] for key in P26],[DBE[key] for key in P26], c='darkviolet', label='P26', s=20)\n",
    "\n",
    "# Set x and y ticks\n",
    "x_ticks = [0, 10, 20, 30, 40, 50, 60, 70]\n",
    "plt.xticks(x_ticks, labels=[f'{int(tick)}' for tick in x_ticks], fontsize=12)\n",
    "y_ticks = [50, 40, 30, 20, 10, 0]\n",
    "plt.yticks(y_ticks, labels=[f'{int(tick)}' for tick in y_ticks], fontsize=12)\n",
    "\n",
    "# Add legend and labels\n",
    "plt.legend(loc='upper left', edgecolor = 'black', handlelength = 0.2)\n",
    "#plt.title(\"DBE vs Carbon Number\", fontdict={'fontsize': 12, 'fontweight': 'bold'})\n",
    "plt.xlabel('Carbon Number')\n",
    "plt.ylabel('DBE')\n",
    "plt.tight_layout()\n",
    "\n",
    "plt.show()"
   ]
  },
  {
   "cell_type": "markdown",
   "id": "e76082b3",
   "metadata": {},
   "source": [
    "### <u>LogP Figures"
   ]
  },
  {
   "cell_type": "code",
   "execution_count": 39,
   "id": "34a52999",
   "metadata": {},
   "outputs": [
    {
     "data": {
      "image/png": "[encoded data removed]",
      "text/plain": [
       "<Figure size 325x325 with 1 Axes>"
      ]
     },
     "metadata": {},
     "output_type": "display_data"
    }
   ],
   "source": [
    "fig, ax = plt.subplots(figsize=(3.25, 3.25))\n",
    "ax.scatter([nC[key] for key in SCT28],[logP[key] for key in SCT28], c='cyan', label='SCT28', s=20)\n",
    "ax.scatter([nC[key] for key in CA12],[logP[key] for key in CA12], c='darkorange', label='CA12', s=20)\n",
    "ax.scatter([nC[key] for key in P26],[logP[key] for key in P26], c='darkviolet', label='P26', s=20)\n",
    "\n",
    "# Set x and y ticks\n",
    "x_ticks = [0, 10, 20, 30, 40, 50, 60, 70]\n",
    "plt.xticks(x_ticks, labels=[f'{int(tick)}' for tick in x_ticks], fontsize=12)\n",
    "y_ticks = [20, 15, 10, 5, 0]\n",
    "plt.yticks(y_ticks, labels=[f'{int(tick)}' for tick in y_ticks], fontsize=12)\n",
    "\n",
    "# Add legend and labels\n",
    "plt.legend(loc='upper left', edgecolor = 'black', handlelength = 0.2)\n",
    "#plt.title(\"DBE vs Carbon Number\", fontdict={'fontsize': 12, 'fontweight': 'bold'})\n",
    "plt.xlabel('Carbon Number')\n",
    "plt.ylabel('logP')\n",
    "plt.tight_layout()\n",
    "\n",
    "plt.show()"
   ]
  },
  {
   "cell_type": "code",
   "execution_count": null,
   "id": "eaeaa5a6",
   "metadata": {},
   "outputs": [],
   "source": []
  }
 ],
 "metadata": {
  "kernelspec": {
   "display_name": "Python 3 (ipykernel)",
   "language": "python",
   "name": "python3"
  },
  "language_info": {
   "codemirror_mode": {
    "name": "ipython",
    "version": 3
   },
   "file_extension": ".py",
   "mimetype": "text/x-python",
   "name": "python",
   "nbconvert_exporter": "python",
   "pygments_lexer": "ipython3",
   "version": "3.11.1"
  }
 },
 "nbformat": 4,
 "nbformat_minor": 5
}
